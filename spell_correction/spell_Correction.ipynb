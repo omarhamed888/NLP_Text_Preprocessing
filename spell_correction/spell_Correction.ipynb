{
 "cells": [
  {
   "cell_type": "markdown",
   "metadata": {},
   "source": [
    "# Import Required Libraries\n",
    "Import necessary libraries such as nltk and autocorrect."
   ]
  },
  {
   "cell_type": "code",
   "execution_count": 3,
   "metadata": {},
   "outputs": [],
   "source": [
    "import nltk\n",
    "from nltk import word_tokenize, pos_tag, ne_chunk\n",
    "from autocorrect import Speller\n",
    "\n",
    "# Initialize the spell checker\n",
    "spell = Speller()"
   ]
  },
  {
   "cell_type": "markdown",
   "metadata": {},
   "source": [
    "# Define Input Text\n",
    "Define the input text that contains spelling errors."
   ]
  },
  {
   "cell_type": "code",
   "execution_count": 4,
   "metadata": {},
   "outputs": [
    {
     "name": "stdout",
     "output_type": "stream",
     "text": [
      "Input text with errors: Stev Jobs was the CEO of Aple Corp. in Califronia.\n"
     ]
    }
   ],
   "source": [
    "# Define input text that contains spelling errors\n",
    "input_text_with_errors = \"Stev Jobs was the CEO of Aple Corp. in Califronia.\"\n",
    "\n",
    "# Print the input text with errors\n",
    "print(\"Input text with errors:\", input_text_with_errors)"
   ]
  },
  {
   "cell_type": "markdown",
   "metadata": {},
   "source": [
    "# Tokenize Input Text\n",
    "Tokenize the input text into individual words."
   ]
  },
  {
   "cell_type": "code",
   "execution_count": 5,
   "metadata": {},
   "outputs": [
    {
     "name": "stdout",
     "output_type": "stream",
     "text": [
      "Tokenized words: ['Stev', 'Jobs', 'was', 'the', 'CEO', 'of', 'Aple', 'Corp.', 'in', 'Califronia', '.']\n"
     ]
    }
   ],
   "source": [
    "# Tokenize the input text into individual words\n",
    "tokens_with_errors = word_tokenize(input_text_with_errors)\n",
    "\n",
    "# Print the tokenized words\n",
    "print(\"Tokenized words:\", tokens_with_errors)"
   ]
  },
  {
   "cell_type": "markdown",
   "metadata": {},
   "source": [
    "# Spell Correction Function\n",
    "Define a function that uses the autocorrect library to correct spelling errors in the tokenized words."
   ]
  },
  {
   "cell_type": "code",
   "execution_count": 6,
   "metadata": {},
   "outputs": [
    {
     "name": "stdout",
     "output_type": "stream",
     "text": [
      "Corrected tokens: ['Steve', 'Jobs', 'was', 'the', 'CEO', 'of', 'Able', 'Corp.', 'in', 'California', '.']\n",
      "Corrected text: Steve Jobs was the CEO of Able Corp. in California .\n"
     ]
    }
   ],
   "source": [
    "# Define a function to correct spelling errors in tokenized words\n",
    "def correct_spelling(tokens):\n",
    "    corrected_tokens = [spell(token) for token in tokens]\n",
    "    return corrected_tokens\n",
    "\n",
    "# Correct the spelling errors in the tokenized words\n",
    "corrected_tokens = correct_spelling(tokens_with_errors)\n",
    "\n",
    "# Print the corrected tokens\n",
    "print(\"Corrected tokens:\", corrected_tokens)\n",
    "\n",
    "# Join the corrected tokens back into a corrected text\n",
    "corrected_text = ' '.join(corrected_tokens)\n",
    "\n",
    "# Print the corrected text\n",
    "print(\"Corrected text:\", corrected_text)"
   ]
  },
  {
   "cell_type": "markdown",
   "metadata": {},
   "source": [
    "# Compare Original and Corrected Text\n",
    "Compare and print the original text and the corrected text."
   ]
  },
  {
   "cell_type": "code",
   "execution_count": 9,
   "metadata": {},
   "outputs": [
    {
     "name": "stdout",
     "output_type": "stream",
     "text": [
      "Txt with errors: Stev Jobs was the CEO of Aple Corp. in Califronia.\n",
      "Corrected text: Steve Jobs was the CEO of Able Corp. in California .\n"
     ]
    }
   ],
   "source": [
    "# Compare Original and Corrected Text\n",
    "\n",
    "# Print the original text with errors\n",
    "print(\"Txt with errors:\", input_text_with_errors)\n",
    "\n",
    "# Print the corrected text\n",
    "print(\"Corrected text:\", corrected_text)"
   ]
  },
  {
   "cell_type": "code",
   "execution_count": null,
   "metadata": {},
   "outputs": [],
   "source": []
  }
 ],
 "metadata": {
  "kernelspec": {
   "display_name": "base",
   "language": "python",
   "name": "python3"
  },
  "language_info": {
   "codemirror_mode": {
    "name": "ipython",
    "version": 3
   },
   "file_extension": ".py",
   "mimetype": "text/x-python",
   "name": "python",
   "nbconvert_exporter": "python",
   "pygments_lexer": "ipython3",
   "version": "3.12.3"
  }
 },
 "nbformat": 4,
 "nbformat_minor": 2
}
