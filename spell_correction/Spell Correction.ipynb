{
 "cells": [
  {
   "cell_type": "code",
   "execution_count": 3,
   "id": "7a848e6b",
   "metadata": {},
   "outputs": [],
   "source": [
    "#!pip install textblob"
   ]
  },
  {
   "cell_type": "code",
   "execution_count": 1,
   "id": "8c677487",
   "metadata": {},
   "outputs": [
    {
     "name": "stdout",
     "output_type": "stream",
     "text": [
      "Collecting indexer\n",
      "  Downloading indexer-0.6.2.tar.gz (14 kB)\n",
      "  Preparing metadata (setup.py): started\n",
      "  Preparing metadata (setup.py): finished with status 'error'\n"
     ]
    },
    {
     "name": "stderr",
     "output_type": "stream",
     "text": [
      "  error: subprocess-exited-with-error\n",
      "  \n",
      "  × python setup.py egg_info did not run successfully.\n",
      "  │ exit code: 1\n",
      "  ╰─> [7 lines of output]\n",
      "      Traceback (most recent call last):\n",
      "        File \"<string>\", line 2, in <module>\n",
      "        File \"<pip-setuptools-caller>\", line 34, in <module>\n",
      "        File \"C:\\Users\\Omar\\AppData\\Local\\Temp\\pip-install-pbhtyzag\\indexer_f2c8ed62e694426aa4024a453e7574bb\\setup.py\", line 107\n",
      "          except OSError, ex:\n",
      "                 ^^^^^^^^^^^\n",
      "      SyntaxError: multiple exception types must be parenthesized\n",
      "      [end of output]\n",
      "  \n",
      "  note: This error originates from a subprocess, and is likely not a problem with pip.\n",
      "error: metadata-generation-failed\n",
      "\n",
      "× Encountered error while generating package metadata.\n",
      "╰─> See above for output.\n",
      "\n",
      "note: This is an issue with the package mentioned above, not pip.\n",
      "hint: See above for details.\n"
     ]
    }
   ],
   "source": [
    "!pip install indexer\n"
   ]
  },
  {
   "cell_type": "code",
   "execution_count": 3,
   "id": "3ea830ab",
   "metadata": {},
   "outputs": [],
   "source": [
    "#!pip install spellchecker"
   ]
  },
  {
   "cell_type": "code",
   "execution_count": 1,
   "id": "144a6064",
   "metadata": {},
   "outputs": [
    {
     "name": "stdout",
     "output_type": "stream",
     "text": [
      "I have a good spelling!\n"
     ]
    }
   ],
   "source": [
    "from textblob import TextBlob\n",
    "\n",
    "# Create a TextBlob object with the text to correct\n",
    "text = \"I havv a goood speling!\"\n",
    "\n",
    "# Create a new TextBlob object with corrected spelling\n",
    "corrected_text = TextBlob(text).correct()\n",
    "\n",
    "# Print the corrected text\n",
    "print(corrected_text)\n"
   ]
  },
  {
   "cell_type": "code",
   "execution_count": null,
   "id": "3a199ba3",
   "metadata": {},
   "outputs": [],
   "source": []
  }
 ],
 "metadata": {
  "kernelspec": {
   "display_name": "base",
   "language": "python",
   "name": "python3"
  },
  "language_info": {
   "codemirror_mode": {
    "name": "ipython",
    "version": 3
   },
   "file_extension": ".py",
   "mimetype": "text/x-python",
   "name": "python",
   "nbconvert_exporter": "python",
   "pygments_lexer": "ipython3",
   "version": "3.12.3"
  }
 },
 "nbformat": 4,
 "nbformat_minor": 5
}
