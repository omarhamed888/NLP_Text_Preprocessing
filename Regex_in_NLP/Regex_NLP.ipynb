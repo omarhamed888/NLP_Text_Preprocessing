{
 "cells": [
  {
   "cell_type": "markdown",
   "metadata": {},
   "source": [
    "# Import Required Libraries\n",
    "Import the necessary libraries, including the re module."
   ]
  },
  {
   "cell_type": "code",
   "execution_count": 1,
   "metadata": {},
   "outputs": [],
   "source": [
    "# Import the necessary libraries, including the re module\n",
    "import re"
   ]
  },
  {
   "cell_type": "markdown",
   "metadata": {},
   "source": [
    "# Basic Regex Functions\n",
    "Demonstrate basic regex functions such as match(), search(), findall(), and sub() with examples."
   ]
  },
  {
   "cell_type": "code",
   "execution_count": 21,
   "metadata": {},
   "outputs": [
    {
     "name": "stdout",
     "output_type": "stream",
     "text": [
      "\n",
      "googlewww\n",
      "yahoowww\n",
      "bingwww\n",
      "\n"
     ]
    }
   ],
   "source": [
    "urls_text = '''\n",
    "https://www.google.com\n",
    "http://www.yahoo.com\n",
    "https://www.bing.com\n",
    "'''\n",
    "pattern = re.compile(r\"https?://(www)?\\.([a-zA-Z0-9]+)?\\.com\")\n",
    "match =re.finditer(pattern, urls_text)\n",
    "# for m in match:\n",
    "#     print(m[0])\n",
    "# sub\n",
    "subbed_urls = pattern.sub(r'\\2\\1', urls_text)\n",
    "print(subbed_urls)"
   ]
  },
  {
   "cell_type": "code",
   "execution_count": 22,
   "metadata": {},
   "outputs": [
    {
     "name": "stdout",
     "output_type": "stream",
     "text": [
      "No match found\n"
     ]
    }
   ],
   "source": [
    "# Basic Regex Functions\n",
    "\n",
    "# Example 1: Using match() function\n",
    "pattern = r'.hello.'\n",
    "text = 'hell world hello'\n",
    "match = re.match(pattern, text)\n",
    "if match:\n",
    "    print(f\"Match found: {match.group()}\")\n",
    "else:\n",
    "    print(\"No match found\")\n"
   ]
  },
  {
   "cell_type": "code",
   "execution_count": 23,
   "metadata": {},
   "outputs": [
    {
     "name": "stdout",
     "output_type": "stream",
     "text": [
      "Search found: world\n",
      "Findall results: ['hello', 'world', 'welcome', 'to', 'regex', 'in', 'NLP']\n",
      "Sub result: hello universe\n"
     ]
    }
   ],
   "source": [
    "\n",
    "# Example 2: Using search() function\n",
    "pattern = r'\\bworld\\b'\n",
    "text = 'hello world'\n",
    "search = re.search(pattern, text)\n",
    "if search:\n",
    "    print(f\"Search found: {search.group()}\")\n",
    "else:\n",
    "    print(\"No search found\")\n",
    "\n",
    "# Example 3: Using findall() function\n",
    "pattern = r'\\b\\w+\\b'\n",
    "text = 'hello world, welcome to regex in NLP'\n",
    "findall = re.findall(pattern, text)\n",
    "print(f\"Findall results: {findall}\")\n",
    "\n",
    "# Example 4: Using sub() function\n",
    "pattern = r'\\bworld\\b'\n",
    "replacement = 'universe'\n",
    "text = 'hello world'\n",
    "sub = re.sub(pattern, replacement, text)\n",
    "print(f\"Sub result: {sub}\")"
   ]
  },
  {
   "cell_type": "markdown",
   "metadata": {},
   "source": [
    "# Common Regex Patterns in NLP\n",
    "Show common regex patterns used in NLP, such as matching words, digits, whitespace, and special characters."
   ]
  },
  {
   "cell_type": "code",
   "execution_count": 24,
   "metadata": {},
   "outputs": [
    {
     "name": "stdout",
     "output_type": "stream",
     "text": [
      "Words: ['Natural', 'Language', 'Processing', 'with', 'Python']\n"
     ]
    }
   ],
   "source": [
    "# Common Regex Patterns in NLP\n",
    "\n",
    "# Example 1: Matching Words\n",
    "pattern = r'\\b\\w+\\b'\n",
    "text = 'Natural Language Processing with Python'\n",
    "words = re.findall(pattern, text)\n",
    "print(f\"Words: {words}\")\n"
   ]
  },
  {
   "cell_type": "code",
   "execution_count": 25,
   "metadata": {},
   "outputs": [
    {
     "name": "stdout",
     "output_type": "stream",
     "text": [
      "Digits: ['123', '456']\n"
     ]
    }
   ],
   "source": [
    "\n",
    "# Example 2: Matching Digits\n",
    "pattern = r'\\d+'\n",
    "text = 'There are 123 apples and 456 oranges'\n",
    "digits = re.findall(pattern, text)\n",
    "print(f\"Digits: {digits}\")\n"
   ]
  },
  {
   "cell_type": "code",
   "execution_count": 26,
   "metadata": {},
   "outputs": [
    {
     "name": "stdout",
     "output_type": "stream",
     "text": [
      "Whitespace: ['   ', '   ']\n"
     ]
    }
   ],
   "source": [
    "\n",
    "# Example 3: Matching Whitespace\n",
    "pattern = r'\\s+'\n",
    "text = 'Natural   Language   Processing'\n",
    "whitespace = re.findall(pattern, text)\n",
    "print(f\"Whitespace: {whitespace}\")\n"
   ]
  },
  {
   "cell_type": "code",
   "execution_count": 27,
   "metadata": {},
   "outputs": [
    {
     "name": "stdout",
     "output_type": "stream",
     "text": [
      "Special Characters: [',', '!', '.']\n"
     ]
    }
   ],
   "source": [
    "\n",
    "# Example 4: Matching Special Characters\n",
    "pattern = r'[!@#$%^&*(),.?\":{}|<>]'\n",
    "text = 'Hello, world! Welcome to NLP.'\n",
    "special_chars = re.findall(pattern, text)\n",
    "print(f\"Special Characters: {special_chars}\")\n"
   ]
  },
  {
   "cell_type": "code",
   "execution_count": 28,
   "metadata": {},
   "outputs": [
    {
     "name": "stdout",
     "output_type": "stream",
     "text": [
      "Emails: ['support@example.com']\n"
     ]
    }
   ],
   "source": [
    "\n",
    "# Example 5: Matching Email Addresses\n",
    "pattern = r'\\b[A-Za-z0-9._%+-]+@[A-Za-z0-9.-]+\\.[A-Z|a-z]{2,}\\b'\n",
    "text = 'Please contact us at support@example.com for further information.'\n",
    "emails = re.findall(pattern, text)\n",
    "print(f\"Emails: {emails}\")\n"
   ]
  },
  {
   "cell_type": "code",
   "execution_count": 29,
   "metadata": {},
   "outputs": [
    {
     "name": "stdout",
     "output_type": "stream",
     "text": [
      "URLs: ['https://www.example.com']\n"
     ]
    }
   ],
   "source": [
    "\n",
    "# Example 6: Matching URLs\n",
    "pattern = r'https?://(?:[-\\w.]|(?:%[\\da-fA-F]{2}))+'\n",
    "text = 'Visit our website at https://www.example.com for more details.'\n",
    "urls = re.findall(pattern, text)\n",
    "print(f\"URLs: {urls}\")\n"
   ]
  },
  {
   "cell_type": "code",
   "execution_count": 31,
   "metadata": {},
   "outputs": [
    {
     "name": "stdout",
     "output_type": "stream",
     "text": [
      "Dates: ['12/25/2023']\n"
     ]
    }
   ],
   "source": [
    "\n",
    "# Example 7: Matching Dates\n",
    "pattern = r'\\b\\d{2}/\\d{2}/\\d{4}\\b'\n",
    "text = 'The event is scheduled for 12/25/2023.'\n",
    "dates = re.findall(pattern, text)\n",
    "print(f\"Dates: {dates}\")\n"
   ]
  },
  {
   "cell_type": "code",
   "execution_count": 32,
   "metadata": {},
   "outputs": [
    {
     "name": "stdout",
     "output_type": "stream",
     "text": [
      "Times: ['10:30AM']\n"
     ]
    }
   ],
   "source": [
    "\n",
    "# Example 8: Matching Time\n",
    "pattern = r'\\b\\d{1,2}:\\d{2}(?:AM|PM|am|pm)?\\b'\n",
    "text = 'The meeting is at 10:30AM.'\n",
    "times = re.findall(pattern, text)\n",
    "print(f\"Times: {times}\")"
   ]
  },
  {
   "cell_type": "markdown",
   "metadata": {},
   "source": [
    "# Tokenization with Regex\n",
    "Use regex to tokenize text into words and sentences."
   ]
  },
  {
   "cell_type": "code",
   "execution_count": 33,
   "metadata": {},
   "outputs": [
    {
     "name": "stdout",
     "output_type": "stream",
     "text": [
      "Words: ['Hello', 'world', 'Welcome', 'to', 'Natural', 'Language', 'Processing', 'with', 'Python']\n"
     ]
    }
   ],
   "source": [
    "# Tokenization with Regex\n",
    "\n",
    "# Example 1: Tokenizing text into words\n",
    "text = \"Hello world! Welcome to Natural Language Processing with Python.\"\n",
    "word_pattern = r'\\b\\w+\\b'\n",
    "words = re.findall(word_pattern, text)\n",
    "print(f\"Words: {words}\")\n"
   ]
  },
  {
   "cell_type": "code",
   "execution_count": 34,
   "metadata": {},
   "outputs": [
    {
     "name": "stdout",
     "output_type": "stream",
     "text": [
      "Sentences: ['Hello world!', ' Welcome to Natural Language Processing with Python.', \" Let's learn regex.\"]\n"
     ]
    }
   ],
   "source": [
    "\n",
    "# Example 2: Tokenizing text into sentences\n",
    "text = \"Hello world! Welcome to Natural Language Processing with Python. Let's learn regex.\"\n",
    "sentence_pattern = r'[^.!?]+[.!?]'\n",
    "sentences = re.findall(sentence_pattern, text)\n",
    "print(f\"Sentences: {sentences}\")\n"
   ]
  },
  {
   "cell_type": "code",
   "execution_count": 35,
   "metadata": {},
   "outputs": [
    {
     "name": "stdout",
     "output_type": "stream",
     "text": [
      "Words without punctuation: ['Hello', 'world', 'Welcome', 'to', 'NLP']\n"
     ]
    }
   ],
   "source": [
    "\n",
    "# Example 3: Tokenizing text into words and removing punctuation\n",
    "text = \"Hello, world! Welcome to NLP.\"\n",
    "word_pattern = r'\\b\\w+\\b'\n",
    "words = re.findall(word_pattern, text)\n",
    "print(f\"Words without punctuation: {words}\")\n"
   ]
  },
  {
   "cell_type": "code",
   "execution_count": 36,
   "metadata": {},
   "outputs": [
    {
     "name": "stdout",
     "output_type": "stream",
     "text": [
      "Words with punctuation: ['Hello', ',', 'world', '!', 'Welcome', 'to', 'NLP', '.']\n"
     ]
    }
   ],
   "source": [
    "\n",
    "# Example 4: Tokenizing text into words and keeping punctuation\n",
    "text = \"Hello, world! Welcome to NLP.\"\n",
    "word_pattern_with_punct = r'\\w+|[^\\w\\s]'\n",
    "words_with_punct = re.findall(word_pattern_with_punct, text)\n",
    "print(f\"Words with punctuation: {words_with_punct}\")\n"
   ]
  },
  {
   "cell_type": "code",
   "execution_count": 37,
   "metadata": {},
   "outputs": [
    {
     "name": "stdout",
     "output_type": "stream",
     "text": [
      "Sentences with punctuation: ['Hello world!', ' Welcome to NLP.', \" Let's learn regex.\"]\n"
     ]
    }
   ],
   "source": [
    "\n",
    "# Example 5: Tokenizing text into sentences and keeping punctuation\n",
    "text = \"Hello world! Welcome to NLP. Let's learn regex.\"\n",
    "sentence_pattern_with_punct = r'[^.!?]+[.!?]'\n",
    "sentences_with_punct = re.findall(sentence_pattern_with_punct, text)\n",
    "print(f\"Sentences with punctuation: {sentences_with_punct}\")"
   ]
  },
  {
   "cell_type": "markdown",
   "metadata": {},
   "source": [
    "# Extracting Information with Regex\n",
    "Extract specific information from text using regex, such as email addresses, phone numbers, and dates."
   ]
  },
  {
   "cell_type": "code",
   "execution_count": 38,
   "metadata": {},
   "outputs": [
    {
     "name": "stdout",
     "output_type": "stream",
     "text": [
      "Extracted Emails: ['support@example.com', 'sales@example.com', 'info@example.com']\n"
     ]
    }
   ],
   "source": [
    "# Extracting Information with Regex\n",
    "\n",
    "# Example 1: Extracting Email Addresses\n",
    "text = \"Please contact us at support@example.com, sales@example.com, and info@example.com.\"\n",
    "email_pattern = r'\\b[A-Za-z0-9._%+-]+@[A-Za-z0-9.-]+\\.[A-Z|a-z]{2,}\\b'\n",
    "emails = re.findall(email_pattern, text)\n",
    "print(f\"Extracted Emails: {emails}\")\n"
   ]
  },
  {
   "cell_type": "code",
   "execution_count": 39,
   "metadata": {},
   "outputs": [
    {
     "name": "stdout",
     "output_type": "stream",
     "text": [
      "Extracted Phone Numbers: ['(123) 456-7890', '123-456-7890']\n"
     ]
    }
   ],
   "source": [
    "\n",
    "# Example 2: Extracting Phone Numbers\n",
    "text = \"You can reach us at (123) 456-7890 or 123-456-7890.\"\n",
    "phone_pattern = r'\\(?\\d{3}\\)?[-.\\s]?\\d{3}[-.\\s]?\\d{4}'\n",
    "phones = re.findall(phone_pattern, text)\n",
    "print(f\"Extracted Phone Numbers: {phones}\")\n",
    "\n"
   ]
  },
  {
   "cell_type": "code",
   "execution_count": 40,
   "metadata": {},
   "outputs": [
    {
     "name": "stdout",
     "output_type": "stream",
     "text": [
      "Extracted Dates: ['12/25/2023', '01/01/2024']\n"
     ]
    }
   ],
   "source": [
    "\n",
    "# Example 3: Extracting Dates\n",
    "text = \"The event is scheduled for 12/25/2023 and 01/01/2024.\"\n",
    "date_pattern = r'\\b\\d{2}/\\d{2}/\\d{4}\\b'\n",
    "dates = re.findall(date_pattern, text)\n",
    "print(f\"Extracted Dates: {dates}\")\n"
   ]
  },
  {
   "cell_type": "code",
   "execution_count": 41,
   "metadata": {},
   "outputs": [
    {
     "name": "stdout",
     "output_type": "stream",
     "text": [
      "Extracted URLs: ['https://www.example.com', 'http://example.org']\n"
     ]
    }
   ],
   "source": [
    "\n",
    "# Example 4: Extracting URLs\n",
    "text = \"Visit our website at https://www.example.com and http://example.org for more details.\"\n",
    "url_pattern = r'https?://(?:[-\\w.]|(?:%[\\da-fA-F]{2}))+'\n",
    "urls = re.findall(url_pattern, text)\n",
    "print(f\"Extracted URLs: {urls}\")\n"
   ]
  },
  {
   "cell_type": "code",
   "execution_count": 42,
   "metadata": {},
   "outputs": [
    {
     "name": "stdout",
     "output_type": "stream",
     "text": [
      "Extracted Times: ['10:30AM', '02:00PM']\n"
     ]
    }
   ],
   "source": [
    "\n",
    "# Example 5: Extracting Time\n",
    "text = \"The meeting is at 10:30AM and the event starts at 02:00PM.\"\n",
    "time_pattern = r'\\b\\d{1,2}:\\d{2}(?:AM|PM|am|pm)?\\b'\n",
    "times = re.findall(time_pattern, text)\n",
    "print(f\"Extracted Times: {times}\")"
   ]
  },
  {
   "cell_type": "markdown",
   "metadata": {},
   "source": [
    "# Replacing Text with Regex\n",
    "Use regex to replace or substitute parts of text, such as removing punctuation or replacing certain words."
   ]
  },
  {
   "cell_type": "code",
   "execution_count": 43,
   "metadata": {},
   "outputs": [
    {
     "name": "stdout",
     "output_type": "stream",
     "text": [
      "Text without punctuation: Hello world Welcome to NLP\n"
     ]
    }
   ],
   "source": [
    "# Replacing Text with Regex\n",
    "\n",
    "# Example 1: Removing Punctuation\n",
    "text = \"Hello, world! Welcome to NLP.\"\n",
    "pattern = r'[^\\w\\s]'\n",
    "cleaned_text = re.sub(pattern, '', text)\n",
    "print(f\"Text without punctuation: {cleaned_text}\")\n"
   ]
  },
  {
   "cell_type": "code",
   "execution_count": 44,
   "metadata": {},
   "outputs": [
    {
     "name": "stdout",
     "output_type": "stream",
     "text": [
      "Text with replaced word: The quick brown cat jumps over the lazy dog.\n"
     ]
    }
   ],
   "source": [
    "\n",
    "# Example 2: Replacing Words\n",
    "text = \"The quick brown fox jumps over the lazy dog.\"\n",
    "pattern = r'\\bfox\\b'\n",
    "replacement = 'cat'\n",
    "replaced_text = re.sub(pattern, replacement, text)\n",
    "print(f\"Text with replaced word: {replaced_text}\")\n"
   ]
  },
  {
   "cell_type": "code",
   "execution_count": 45,
   "metadata": {},
   "outputs": [
    {
     "name": "stdout",
     "output_type": "stream",
     "text": [
      "Text with multiple replacements: The slow black cat jumps over the lazy dog.\n"
     ]
    }
   ],
   "source": [
    "\n",
    "# Example 3: Replacing Multiple Patterns\n",
    "text = \"The quick brown fox jumps over the lazy dog.\"\n",
    "patterns = [r'\\bquick\\b', r'\\bbrown\\b', r'\\bfox\\b']\n",
    "replacements = ['slow', 'black', 'cat']\n",
    "\"\"\" zip(patterns, replacements): The zip function takes two or more iterables (in this case,\n",
    "    patterns and replacements) and returns an iterator of tuples, \n",
    "    where the i-th tuple contains the i-th element from each of the input iterables. \n",
    "    This allows us to pair each pattern with its corresponding replacement.\n",
    "\"\"\"\n",
    "for pattern, replacement in zip(patterns, replacements):\n",
    "    text = re.sub(pattern, replacement, text)\n",
    "print(f\"Text with multiple replacements: {text}\")\n"
   ]
  },
  {
   "cell_type": "code",
   "execution_count": 46,
   "metadata": {},
   "outputs": [
    {
     "name": "stdout",
     "output_type": "stream",
     "text": [
      "Text without extra whitespace: Natural Language Processing\n"
     ]
    }
   ],
   "source": [
    "\n",
    "# Example 4: Removing Extra Whitespace\n",
    "text = \"Natural   Language   Processing\"\n",
    "pattern = r'\\s+'\n",
    "cleaned_text = re.sub(pattern, ' ', text)\n",
    "print(f\"Text without extra whitespace: {cleaned_text}\")\n"
   ]
  },
  {
   "cell_type": "code",
   "execution_count": 47,
   "metadata": {},
   "outputs": [
    {
     "name": "stdout",
     "output_type": "stream",
     "text": [
      "Text with replaced digits: There are # apples and # oranges.\n"
     ]
    }
   ],
   "source": [
    "\n",
    "# Example 5: Replacing Digits\n",
    "text = \"There are 123 apples and 456 oranges.\"\n",
    "pattern = r'\\d+'\n",
    "replacement = '#'\n",
    "replaced_text = re.sub(pattern, replacement, text)\n",
    "print(f\"Text with replaced digits: {replaced_text}\")"
   ]
  },
  {
   "cell_type": "markdown",
   "metadata": {},
   "source": [
    "# Advanced Regex Examples\n",
    "Provide advanced regex examples, such as lookaheads, lookbehinds, and non-capturing groups."
   ]
  },
  {
   "cell_type": "code",
   "execution_count": 50,
   "metadata": {},
   "outputs": [
    {
     "name": "stdout",
     "output_type": "stream",
     "text": [
      "Positive Lookahead: ['hello', 'the']\n"
     ]
    },
    {
     "name": "stderr",
     "output_type": "stream",
     "text": [
      "<>:4: SyntaxWarning: invalid escape sequence '\\w'\n",
      "<>:4: SyntaxWarning: invalid escape sequence '\\w'\n",
      "C:\\Users\\Omar\\AppData\\Local\\Temp\\ipykernel_17768\\3043265131.py:4: SyntaxWarning: invalid escape sequence '\\w'\n",
      "  \"\"\"The pattern looks ahead for any word that is followed by ' world'\n"
     ]
    }
   ],
   "source": [
    "# Advanced Regex Examples\n",
    "\n",
    "# Example 1: Positive Lookahead\n",
    "\"\"\"The pattern looks ahead for any word that is followed by ' world'\n",
    " \\b: word boundary - matches the position between a word character and a non-word character\n",
    " \\w+: matches one or more word characters (letters, digits, or underscores)\n",
    " (?=\\sworld\\b): positive lookahead assertion that matches only if the word is followed by:\n",
    "   \\s: a whitespace character\n",
    "   world: the literal text \"world\"\n",
    "   \\b: another word boundary\"\"\"\n",
    "pattern = r'\\b\\w+(?=\\sworld\\b)'\n",
    "text = 'hello world, welcome to the world of regex'\n",
    "positive_lookahead = re.findall(pattern, text)\n",
    "print(f\"Positive Lookahead: {positive_lookahead}\")\n"
   ]
  },
  {
   "cell_type": "code",
   "execution_count": null,
   "metadata": {},
   "outputs": [
    {
     "name": "stdout",
     "output_type": "stream",
     "text": [
      "Negative Lookahead: ['hell', 'world', 'welcome', 'to', 'th', 'world', 'of', 'regex']\n"
     ]
    }
   ],
   "source": [
    "\n",
    "# Example 2: Negative Lookahead\n",
    "\"\"\"The pattern looks for words that are NOT followed by ' world'\n",
    "\\b: word boundary - matches the position between a word character and a non-word character\n",
    "\\w+: matches one or more word characters (letters, digits, or underscores)\n",
    "(?!\\sworld\\b): negative lookahead assertion that matches only if the word is NOT followed by:\n",
    "    \\s: a whitespace character\n",
    "    world: the literal text \"world\"\n",
    "    \\b: another word boundary\"\"\"\n",
    "pattern = r'\\b\\w+(?!\\sworld\\b)'\n",
    "text = 'hello world, welcome to the world of regex'\n",
    "negative_lookahead = re.findall(pattern, text)\n",
    "print(f\"Negative Lookahead: {negative_lookahead}\")\n"
   ]
  },
  {
   "cell_type": "code",
   "execution_count": 54,
   "metadata": {},
   "outputs": [
    {
     "name": "stdout",
     "output_type": "stream",
     "text": [
      "Positive Lookbehind: ['world', 'regex']\n"
     ]
    },
    {
     "name": "stderr",
     "output_type": "stream",
     "text": [
      "<>:2: SyntaxWarning: invalid escape sequence '\\s'\n",
      "<>:2: SyntaxWarning: invalid escape sequence '\\s'\n",
      "C:\\Users\\Omar\\AppData\\Local\\Temp\\ipykernel_17768\\588925040.py:2: SyntaxWarning: invalid escape sequence '\\s'\n",
      "  \"\"\"The pattern looks behind for any word that is preceded by 'hello '\n"
     ]
    }
   ],
   "source": [
    "\n",
    "# Example 3: Positive Lookbehind\n",
    "\"\"\"The pattern looks behind for any word that is preceded by 'hello '\n",
    "\\b: word boundary - matches the position between a word character and a non-word character\n",
    "(?<=\\bhello\\s): positive lookbehind assertion that matches only if the word is preceded by:\n",
    "    \\b: a word boundary\n",
    "    hello: the literal text \"hello\"\n",
    "    \\s: a whitespace character\n",
    "    \\w+: matches one or more word characters (letters, digits, or underscores)\n",
    "    \\b: another word boundary\"\"\"\n",
    "pattern = r'(?<=\\bhello\\s)\\w+\\b'\n",
    "text = 'hello world, hello regex'\n",
    "positive_lookbehind = re.findall(pattern, text)\n",
    "print(f\"Positive Lookbehind: {positive_lookbehind}\")\n"
   ]
  },
  {
   "cell_type": "code",
   "execution_count": 55,
   "metadata": {},
   "outputs": [
    {
     "name": "stdout",
     "output_type": "stream",
     "text": [
      "Negative Lookbehind: ['hello', 'hello']\n"
     ]
    },
    {
     "name": "stderr",
     "output_type": "stream",
     "text": [
      "<>:2: SyntaxWarning: invalid escape sequence '\\s'\n",
      "<>:2: SyntaxWarning: invalid escape sequence '\\s'\n",
      "C:\\Users\\Omar\\AppData\\Local\\Temp\\ipykernel_17768\\1889858037.py:2: SyntaxWarning: invalid escape sequence '\\s'\n",
      "  \"\"\"The pattern looks behind for any word that is NOT preceded by 'hello '\n"
     ]
    }
   ],
   "source": [
    "\n",
    "# Example 4: Negative Lookbehind\n",
    "\"\"\"The pattern looks behind for any word that is NOT preceded by 'hello '\n",
    "\\b: word boundary - matches the position between a word character and a non-word character\n",
    "(?<!\\bhello\\s): negative lookbehind assertion that matches only if the word is NOT preceded by:\n",
    "    \\b: a word boundary\n",
    "    hello: the literal text \"hello\"\n",
    "    \\s: a whitespace character\n",
    "    \\w+: matches one or more word characters (letters, digits, or underscores)\n",
    "    \\b: another word boundary\"\"\"\n",
    "pattern = r'(?<!\\bhello\\s)\\b\\w+\\b'\n",
    "text = 'hello world, hello regex'\n",
    "negative_lookbehind = re.findall(pattern, text)\n",
    "print(f\"Negative Lookbehind: {negative_lookbehind}\")\n"
   ]
  },
  {
   "cell_type": "code",
   "execution_count": 58,
   "metadata": {},
   "outputs": [
    {
     "name": "stdout",
     "output_type": "stream",
     "text": [
      "Non-Capturing Groups: ['hello world', 'hi there']\n"
     ]
    }
   ],
   "source": [
    "\n",
    "# Example 5: Non-Capturing Groups\n",
    "pattern = r'(?:hello|hi)\\s\\w+'\n",
    "text = 'hello world, hi there'\n",
    "non_capturing_groups = re.findall(pattern, text)\n",
    "print(f\"Non-Capturing Groups: {non_capturing_groups}\")\n"
   ]
  },
  {
   "cell_type": "code",
   "execution_count": 62,
   "metadata": {},
   "outputs": [
    {
     "name": "stdout",
     "output_type": "stream",
     "text": [
      "Named Groups: Greeting - hello, Target - world\n"
     ]
    },
    {
     "name": "stderr",
     "output_type": "stream",
     "text": [
      "<>:2: SyntaxWarning: invalid escape sequence '\\s'\n",
      "<>:2: SyntaxWarning: invalid escape sequence '\\s'\n",
      "C:\\Users\\Omar\\AppData\\Local\\Temp\\ipykernel_17768\\2052976179.py:2: SyntaxWarning: invalid escape sequence '\\s'\n",
      "  \"\"\"The pattern uses named capturing groups to extract specific parts of the match\n"
     ]
    }
   ],
   "source": [
    "\n",
    "# Example 6: Named Groups\n",
    "\"\"\"The pattern uses named capturing groups to extract specific parts of the match\n",
    "(?P<greeting>\\bhello\\b): Named group 'greeting' that matches the word 'hello'\n",
    "    \\b: word boundary\n",
    "    hello: the literal text \"hello\"\n",
    "    \\b: word boundary\n",
    "\\s: matches a whitespace character\n",
    "(?P<target>\\bworld\\b): Named group 'target' that matches the word 'world'\n",
    "    \\b: word boundary\n",
    "    world: the literal text \"world\"\n",
    "    \\b: word boundary\"\"\"\n",
    "pattern = r'(?P<greeting>\\bhello\\b)\\s(?P<target>\\bworld\\b)'\n",
    "text = 'hello world'\n",
    "named_groups = re.search(pattern, text)\n",
    "if named_groups:\n",
    "    print(f\"Named Groups: Greeting - {named_groups.group('greeting')}, Target - {named_groups.group('target')}\")\n"
   ]
  },
  {
   "cell_type": "code",
   "execution_count": 63,
   "metadata": {},
   "outputs": [
    {
     "name": "stdout",
     "output_type": "stream",
     "text": [
      "Conditional Matching: hello world\n"
     ]
    }
   ],
   "source": [
    "\n",
    "# Example 7: Conditional Matching\n",
    "pattern = r'(\\bhello\\b)?\\s?(?(1)world|regex)'\n",
    "text = 'hello world'\n",
    "conditional_matching = re.search(pattern, text)\n",
    "if conditional_matching:\n",
    "    print(f\"Conditional Matching: {conditional_matching.group()}\")\n"
   ]
  },
  {
   "cell_type": "code",
   "execution_count": 64,
   "metadata": {},
   "outputs": [
    {
     "name": "stdout",
     "output_type": "stream",
     "text": [
      "Atomic Groups: ['hello world']\n"
     ]
    }
   ],
   "source": [
    "\n",
    "# Example 8: Atomic Groups\n",
    "pattern = r'(?>hello)\\sworld'\n",
    "text = 'hello world'\n",
    "atomic_groups = re.findall(pattern, text)\n",
    "print(f\"Atomic Groups: {atomic_groups}\")"
   ]
  },
  {
   "cell_type": "code",
   "execution_count": 65,
   "metadata": {},
   "outputs": [
    {
     "name": "stdout",
     "output_type": "stream",
     "text": [
      "Atomic Groups: ['hello world']\n"
     ]
    }
   ],
   "source": [
    "text = 'hello world'\n",
    "atomic_groups = re.findall(pattern, text)\n",
    "print(f\"Atomic Groups: {atomic_groups}\")"
   ]
  }
 ],
 "metadata": {
  "kernelspec": {
   "display_name": "base",
   "language": "python",
   "name": "python3"
  },
  "language_info": {
   "codemirror_mode": {
    "name": "ipython",
    "version": 3
   },
   "file_extension": ".py",
   "mimetype": "text/x-python",
   "name": "python",
   "nbconvert_exporter": "python",
   "pygments_lexer": "ipython3",
   "version": "3.12.3"
  }
 },
 "nbformat": 4,
 "nbformat_minor": 2
}
