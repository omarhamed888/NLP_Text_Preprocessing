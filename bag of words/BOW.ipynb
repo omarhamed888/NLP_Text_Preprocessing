{
 "cells": [
  {
   "cell_type": "markdown",
   "metadata": {},
   "source": [
    "# Introduction to Bag of Words\n",
    "Provide an overview of the Bag of Words model, its purpose in NLP, and its basic concept."
   ]
  },
  {
   "cell_type": "code",
   "execution_count": 1,
   "metadata": {},
   "outputs": [
    {
     "name": "stdout",
     "output_type": "stream",
     "text": [
      "Vocabulary: ['brown' 'dog' 'fox' 'jump' 'jumps' 'lazy' 'never' 'outpaces' 'over'\n",
      " 'quick' 'quickly' 'the']\n",
      "BOW Array:\n",
      " [[1 1 1 0 1 1 0 0 1 1 0 2]\n",
      " [0 1 0 1 0 1 1 0 1 0 1 1]\n",
      " [1 1 1 0 0 0 0 1 0 2 0 0]]\n"
     ]
    }
   ],
   "source": [
    "from sklearn.feature_extraction.text import CountVectorizer\n",
    "\n",
    "# Sample text data\n",
    "texts = [\n",
    "    \"The quick brown fox jumps over the lazy dog\",\n",
    "    \"Never jump over the lazy dog quickly\",\n",
    "    \"A quick brown dog outpaces a quick fox\"\n",
    "]\n",
    "\n",
    "# Initialize the CountVectorizer\n",
    "vectorizer = CountVectorizer()\n",
    "\n",
    "# Fit and transform the text data\n",
    "X = vectorizer.fit_transform(texts)\n",
    "\n",
    "# Convert the result to an array\n",
    "bow_array = X.toarray()\n",
    "\n",
    "# Get the feature names (vocabulary)\n",
    "vocabulary = vectorizer.get_feature_names_out()\n",
    "\n",
    "# Display the BOW representation\n",
    "print(\"Vocabulary:\", vocabulary)\n",
    "print(\"BOW Array:\\n\", bow_array)"
   ]
  },
  {
   "cell_type": "markdown",
   "metadata": {},
   "source": [
    "# Import Required Libraries\n",
    "Import the necessary libraries, including pandas, sklearn, and nltk."
   ]
  },
  {
   "cell_type": "code",
   "execution_count": 2,
   "metadata": {},
   "outputs": [],
   "source": [
    "# Import the necessary libraries\n",
    "import pandas as pd\n",
    "from sklearn.feature_extraction.text import CountVectorizer\n",
    "import nltk"
   ]
  },
  {
   "cell_type": "markdown",
   "metadata": {},
   "source": [
    "# Sample Text Data\n",
    "Create a sample text dataset to demonstrate the Bag of Words model."
   ]
  },
  {
   "cell_type": "code",
   "execution_count": 4,
   "metadata": {},
   "outputs": [
    {
     "name": "stdout",
     "output_type": "stream",
     "text": [
      "Vocabulary: ['brown' 'dog' 'fox' 'jump' 'jumps' 'lazy' 'never' 'outpaces' 'over'\n",
      " 'quick' 'quickly' 'the']\n",
      "BOW Array:\n",
      " [[1 1 1 0 1 1 0 0 1 1 0 2]\n",
      " [0 1 0 1 0 1 1 0 1 0 1 1]\n",
      " [1 1 1 0 0 0 0 1 0 2 0 0]]\n"
     ]
    }
   ],
   "source": [
    "# Sample Text Data\n",
    "\n",
    "# Create a sample text dataset to demonstrate the Bag of Words model\n",
    "texts = [\n",
    "    \"The quick brown fox jumps over the lazy dog\",\n",
    "    \"Never jump over the lazy dog quickly\",\n",
    "    \"A quick brown dog outpaces a quick fox\"\n",
    "]\n",
    "\n",
    "# Initialize the CountVectorizer\n",
    "vectorizer = CountVectorizer()\n",
    "\n",
    "# Fit and transform the text data\n",
    "X = vectorizer.fit_transform(texts)\n",
    "\n",
    "# Convert the result to an array\n",
    "bow_array = X.toarray()\n",
    "\n",
    "# Get the feature names (vocabulary)\n",
    "vocabulary = vectorizer.get_feature_names_out()\n",
    "\n",
    "# Display the BOW representation\n",
    "print(\"Vocabulary:\", vocabulary)\n",
    "print(\"BOW Array:\\n\", bow_array)"
   ]
  },
  {
   "cell_type": "markdown",
   "metadata": {},
   "source": [
    "# Text Preprocessing\n",
    "Perform text preprocessing steps such as tokenization, lowercasing, and removing stop words."
   ]
  },
  {
   "cell_type": "code",
   "execution_count": null,
   "metadata": {},
   "outputs": [
    {
     "name": "stderr",
     "output_type": "stream",
     "text": [
      "[nltk_data] Downloading package punkt to\n",
      "[nltk_data]     C:\\Users\\Omar\\AppData\\Roaming\\nltk_data...\n",
      "[nltk_data]   Package punkt is already up-to-date!\n",
      "[nltk_data] Downloading package stopwords to\n",
      "[nltk_data]     C:\\Users\\Omar\\AppData\\Roaming\\nltk_data...\n"
     ]
    },
    {
     "name": "stdout",
     "output_type": "stream",
     "text": [
      "Preprocessed Texts:\n",
      " ['quick brown fox jumps lazy dog', 'never jump lazy dog quickly', 'quick brown dog outpaces quick fox']\n"
     ]
    },
    {
     "name": "stderr",
     "output_type": "stream",
     "text": [
      "[nltk_data]   Unzipping corpora\\stopwords.zip.\n"
     ]
    }
   ],
   "source": [
    "# Import necessary libraries\n",
    "import nltk\n",
    "from nltk.corpus import stopwords\n",
    "from nltk.tokenize import word_tokenize\n",
    "import string\n",
    "\n",
    "# Download NLTK data files (only need to run once)\n",
    "# nltk.download('punkt')\n",
    "# nltk.download('stopwords')\n",
    "\n",
    "# Define text preprocessing function\n",
    "def preprocess_text(text):\n",
    "    # Tokenize the text\n",
    "    tokens = word_tokenize(text)\n",
    "    # Convert to lowercase\n",
    "    tokens = [token.lower() for token in tokens]\n",
    "    # Remove punctuation\n",
    "    tokens = [token for token in tokens if token not in string.punctuation]\n",
    "    # Remove stop words\n",
    "    stop_words = set(stopwords.words('english'))\n",
    "    tokens = [token for token in tokens if token not in stop_words]\n",
    "    return ' '.join(tokens)\n",
    "\n",
    "# Apply preprocessing to the sample texts\n",
    "preprocessed_texts = [preprocess_text(text) for text in texts]\n",
    "\n",
    "# Display the preprocessed texts\n",
    "print(\"Preprocessed Texts:\\n\", preprocessed_texts)"
   ]
  },
  {
   "cell_type": "markdown",
   "metadata": {},
   "source": [
    "# Creating the Bag of Words Model\n",
    "Use sklearn's CountVectorizer to create the Bag of Words model from the preprocessed text data."
   ]
  },
  {
   "cell_type": "code",
   "execution_count": 7,
   "metadata": {},
   "outputs": [
    {
     "name": "stdout",
     "output_type": "stream",
     "text": [
      "Vocabulary: ['brown' 'dog' 'fox' 'jump' 'jumps' 'lazy' 'never' 'outpaces' 'quick'\n",
      " 'quickly']\n",
      "BOW Array:\n",
      " [[1 1 1 0 1 1 0 0 1 0]\n",
      " [0 1 0 1 0 1 1 0 0 1]\n",
      " [1 1 1 0 0 0 0 1 2 0]]\n"
     ]
    }
   ],
   "source": [
    "# Import the necessary libraries\n",
    "from sklearn.feature_extraction.text import CountVectorizer\n",
    "\n",
    "# Sample text data\n",
    "texts = [\n",
    "    \"The quick brown fox jumps over the lazy dog\",\n",
    "    \"Never jump over the lazy dog quickly\",\n",
    "    \"A quick brown dog outpaces a quick fox\"\n",
    "]\n",
    "\n",
    "# Initialize the CountVectorizer\n",
    "vectorizer = CountVectorizer()\n",
    "\n",
    "# preprocessed_texts = [preprocess_text(text) for text in texts]\n",
    "\n",
    "# Fit and transform the text data\n",
    "X = vectorizer.fit_transform(preprocessed_texts)\n",
    "\n",
    "# Convert the result to an array\n",
    "bow_array = X.toarray()\n",
    "\n",
    "# Get the feature names (vocabulary)\n",
    "vocabulary = vectorizer.get_feature_names_out()\n",
    "\n",
    "# Display the BOW representation\n",
    "print(\"Vocabulary:\", vocabulary)\n",
    "print(\"BOW Array:\\n\", bow_array)"
   ]
  },
  {
   "cell_type": "markdown",
   "metadata": {},
   "source": [
    "# Visualizing the Bag of Words\n",
    "Visualize the Bag of Words model using pandas DataFrame to show the word frequencies."
   ]
  },
  {
   "cell_type": "code",
   "execution_count": 8,
   "metadata": {},
   "outputs": [
    {
     "data": {
      "text/html": [
       "<div>\n",
       "<style scoped>\n",
       "    .dataframe tbody tr th:only-of-type {\n",
       "        vertical-align: middle;\n",
       "    }\n",
       "\n",
       "    .dataframe tbody tr th {\n",
       "        vertical-align: top;\n",
       "    }\n",
       "\n",
       "    .dataframe thead th {\n",
       "        text-align: right;\n",
       "    }\n",
       "</style>\n",
       "<table border=\"1\" class=\"dataframe\">\n",
       "  <thead>\n",
       "    <tr style=\"text-align: right;\">\n",
       "      <th></th>\n",
       "      <th>brown</th>\n",
       "      <th>dog</th>\n",
       "      <th>fox</th>\n",
       "      <th>jump</th>\n",
       "      <th>jumps</th>\n",
       "      <th>lazy</th>\n",
       "      <th>never</th>\n",
       "      <th>outpaces</th>\n",
       "      <th>quick</th>\n",
       "      <th>quickly</th>\n",
       "    </tr>\n",
       "  </thead>\n",
       "  <tbody>\n",
       "    <tr>\n",
       "      <th>0</th>\n",
       "      <td>1</td>\n",
       "      <td>1</td>\n",
       "      <td>1</td>\n",
       "      <td>0</td>\n",
       "      <td>1</td>\n",
       "      <td>1</td>\n",
       "      <td>0</td>\n",
       "      <td>0</td>\n",
       "      <td>1</td>\n",
       "      <td>0</td>\n",
       "    </tr>\n",
       "    <tr>\n",
       "      <th>1</th>\n",
       "      <td>0</td>\n",
       "      <td>1</td>\n",
       "      <td>0</td>\n",
       "      <td>1</td>\n",
       "      <td>0</td>\n",
       "      <td>1</td>\n",
       "      <td>1</td>\n",
       "      <td>0</td>\n",
       "      <td>0</td>\n",
       "      <td>1</td>\n",
       "    </tr>\n",
       "    <tr>\n",
       "      <th>2</th>\n",
       "      <td>1</td>\n",
       "      <td>1</td>\n",
       "      <td>1</td>\n",
       "      <td>0</td>\n",
       "      <td>0</td>\n",
       "      <td>0</td>\n",
       "      <td>0</td>\n",
       "      <td>1</td>\n",
       "      <td>2</td>\n",
       "      <td>0</td>\n",
       "    </tr>\n",
       "  </tbody>\n",
       "</table>\n",
       "</div>"
      ],
      "text/plain": [
       "   brown  dog  fox  jump  jumps  lazy  never  outpaces  quick  quickly\n",
       "0      1    1    1     0      1     1      0         0      1        0\n",
       "1      0    1    0     1      0     1      1         0      0        1\n",
       "2      1    1    1     0      0     0      0         1      2        0"
      ]
     },
     "execution_count": 8,
     "metadata": {},
     "output_type": "execute_result"
    }
   ],
   "source": [
    "# Visualizing the Bag of Words\n",
    "\n",
    "# Import the necessary libraries\n",
    "import pandas as pd\n",
    "\n",
    "# Create a DataFrame to visualize the Bag of Words model\n",
    "df_bow = pd.DataFrame(bow_array, columns=vocabulary)\n",
    "\n",
    "# Display the DataFrame\n",
    "df_bow"
   ]
  },
  {
   "cell_type": "code",
   "execution_count": 1,
   "metadata": {},
   "outputs": [
    {
     "name": "stdout",
     "output_type": "stream",
     "text": [
      "Preprocessed Texts:\n",
      " [['quick', 'brown', 'fox', 'jump', 'lazy', 'dog'], ['never', 'jump', 'lazy', 'dog', 'quickly'], ['quick', 'brown', 'dog', 'outpaces', 'quick', 'fox']]\n"
     ]
    }
   ],
   "source": [
    "#trying the preprocessing module on the sample text data\n",
    "import preprocessing_module as pm\n",
    "\n",
    "# Sample text data\n",
    "texts = [\n",
    "    \"The quick brown fox jumps over the lazy dog\",\n",
    "    \"Never jump over the lazy dog quickly\",\n",
    "    \"A quick brown dog outpaces a quick fox\"\n",
    "]\n",
    "\n",
    "# Apply preprocessing to the sample texts\n",
    "preprocessed_texts = [pm.preprocess_text(text) for text in texts]\n",
    "\n",
    "# Display the preprocessed texts\n",
    "print(\"Preprocessed Texts:\\n\", preprocessed_texts)"
   ]
  },
  {
   "cell_type": "code",
   "execution_count": null,
   "metadata": {},
   "outputs": [
    {
     "name": "stdout",
     "output_type": "stream",
     "text": [
      "BOW Array:\n",
      " ({'brown': 2, 'dog': 3, 'fox': 2, 'jump': 2, 'lazy': 2, 'never': 1, 'outpaces': 1, 'quick': 3, 'quickly': 1}, Counter({'quick': 3, 'dog': 3, 'brown': 2, 'fox': 2, 'jump': 2, 'lazy': 2, 'never': 1, 'quickly': 1, 'outpaces': 1}))\n"
     ]
    },
    {
     "data": {
      "text/html": [
       "<div>\n",
       "<style scoped>\n",
       "    .dataframe tbody tr th:only-of-type {\n",
       "        vertical-align: middle;\n",
       "    }\n",
       "\n",
       "    .dataframe tbody tr th {\n",
       "        vertical-align: top;\n",
       "    }\n",
       "\n",
       "    .dataframe thead th {\n",
       "        text-align: right;\n",
       "    }\n",
       "</style>\n",
       "<table border=\"1\" class=\"dataframe\">\n",
       "  <thead>\n",
       "    <tr style=\"text-align: right;\">\n",
       "      <th></th>\n",
       "      <th>brown</th>\n",
       "      <th>dog</th>\n",
       "      <th>fox</th>\n",
       "      <th>jump</th>\n",
       "      <th>lazy</th>\n",
       "      <th>never</th>\n",
       "      <th>outpaces</th>\n",
       "      <th>quick</th>\n",
       "      <th>quickly</th>\n",
       "    </tr>\n",
       "  </thead>\n",
       "  <tbody>\n",
       "    <tr>\n",
       "      <th>0</th>\n",
       "      <td>2</td>\n",
       "      <td>3</td>\n",
       "      <td>2</td>\n",
       "      <td>2</td>\n",
       "      <td>2</td>\n",
       "      <td>1</td>\n",
       "      <td>1</td>\n",
       "      <td>3</td>\n",
       "      <td>1</td>\n",
       "    </tr>\n",
       "    <tr>\n",
       "      <th>1</th>\n",
       "      <td>2</td>\n",
       "      <td>3</td>\n",
       "      <td>2</td>\n",
       "      <td>2</td>\n",
       "      <td>2</td>\n",
       "      <td>1</td>\n",
       "      <td>1</td>\n",
       "      <td>3</td>\n",
       "      <td>1</td>\n",
       "    </tr>\n",
       "  </tbody>\n",
       "</table>\n",
       "</div>"
      ],
      "text/plain": [
       "   brown  dog  fox  jump  lazy  never  outpaces  quick  quickly\n",
       "0      2    3    2     2     2      1         1      3        1\n",
       "1      2    3    2     2     2      1         1      3        1"
      ]
     },
     "execution_count": 5,
     "metadata": {},
     "output_type": "execute_result"
    },
    {
     "ename": "",
     "evalue": "",
     "output_type": "error",
     "traceback": [
      "\u001b[1;31mThe Kernel crashed while executing code in the current cell or a previous cell. \n",
      "\u001b[1;31mPlease review the code in the cell(s) to identify a possible cause of the failure. \n",
      "\u001b[1;31mClick <a href='https://aka.ms/vscodeJupyterKernelCrash'>here</a> for more info. \n",
      "\u001b[1;31mView Jupyter <a href='command:jupyter.viewOutput'>log</a> for further details."
     ]
    }
   ],
   "source": [
    "#generating bow array using the preprocessing module\n",
    "bow_array = pm.generate_bow_ngrams_batch(preprocessed_texts)\n",
    "import pandas as pd\n",
    "# Display the BOW representation\n",
    "print(\"BOW Array:\\n\", bow_array)\n",
    "\n",
    "# Create a DataFrame to visualize the Bag of Words model\n",
    "df_bow = pd.DataFrame(bow_array, columns=bow_array[0].keys())\n",
    "\n",
    "# Display the DataFrame\n",
    "df_bow"
   ]
  },
  {
   "cell_type": "code",
   "execution_count": null,
   "metadata": {},
   "outputs": [],
   "source": []
  }
 ],
 "metadata": {
  "kernelspec": {
   "display_name": "base",
   "language": "python",
   "name": "python3"
  },
  "language_info": {
   "codemirror_mode": {
    "name": "ipython",
    "version": 3
   },
   "file_extension": ".py",
   "mimetype": "text/x-python",
   "name": "python",
   "nbconvert_exporter": "python",
   "pygments_lexer": "ipython3",
   "version": "3.12.3"
  }
 },
 "nbformat": 4,
 "nbformat_minor": 2
}
